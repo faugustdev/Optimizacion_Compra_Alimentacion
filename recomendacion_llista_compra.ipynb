{
  "nbformat": 4,
  "nbformat_minor": 0,
  "metadata": {
    "colab": {
      "provenance": [],
      "include_colab_link": true
    },
    "kernelspec": {
      "name": "python3",
      "display_name": "Python 3"
    },
    "language_info": {
      "name": "python"
    }
  },
  "cells": [
    {
      "cell_type": "markdown",
      "metadata": {
        "id": "view-in-github",
        "colab_type": "text"
      },
      "source": [
        "<a href=\"https://colab.research.google.com/github/rmanzi13/Optimizacion_Compra_Alimentacion/blob/main/recomendacion_llista_compra.ipynb\" target=\"_parent\"><img src=\"https://colab.research.google.com/assets/colab-badge.svg\" alt=\"Open In Colab\"/></a>"
      ]
    },
    {
      "cell_type": "code",
      "source": [
        "import pandas as pd\n",
        "import json\n",
        "ruta_compras = 'productos_mercado.json'"
      ],
      "metadata": {
        "id": "GFOni3PQnLpM"
      },
      "execution_count": null,
      "outputs": []
    },
    {
      "cell_type": "code",
      "source": [
        "with open(ruta_compras,'r') as file:\n",
        "     data = json.load(file)\n",
        "# df_productos = pd.DataFrame(data)"
      ],
      "metadata": {
        "id": "z67qSAnEncHk"
      },
      "execution_count": null,
      "outputs": []
    },
    {
      "cell_type": "code",
      "source": [
        "print(data)"
      ],
      "metadata": {
        "id": "ez5jX-9ToDe0"
      },
      "execution_count": null,
      "outputs": []
    },
    {
      "cell_type": "code",
      "source": [
        "# Elimina la clave \"Hoja1\"\n",
        "if \"Hoja1\" in data:\n",
        "    del data[\"Hoja1\"]"
      ],
      "metadata": {
        "id": "FIGuYa0vp53h"
      },
      "execution_count": null,
      "outputs": []
    },
    {
      "cell_type": "code",
      "source": [
        "# Obtener la lista de productos\n",
        "productos = data['mercado']"
      ],
      "metadata": {
        "id": "zYVB_2s5s1re"
      },
      "execution_count": null,
      "outputs": []
    },
    {
      "cell_type": "code",
      "source": [
        "df_productos = pd.DataFrame(productos)"
      ],
      "metadata": {
        "id": "qT8oPXqatL28"
      },
      "execution_count": null,
      "outputs": []
    },
    {
      "cell_type": "code",
      "source": [
        "# Agregar índices numéricos\n",
        "df_productos.reset_index(drop=True, inplace=True)"
      ],
      "metadata": {
        "id": "UnkF1R_JtfbR"
      },
      "execution_count": null,
      "outputs": []
    },
    {
      "cell_type": "code",
      "source": [
        "df_productos.head()"
      ],
      "metadata": {
        "colab": {
          "base_uri": "https://localhost:8080/",
          "height": 206
        },
        "id": "Pr1az_y8tiUH",
        "outputId": "79210289-422d-4395-88f6-8c6bb19d0d68"
      },
      "execution_count": null,
      "outputs": [
        {
          "output_type": "execute_result",
          "data": {
            "text/plain": [
              "                                            Producto  Precio            Marca  \\\n",
              "0         Fuet extra Nuestra Alacena bolsa 2 x 170 g  3,59 €  Nuestra Alacena   \n",
              "1    Chorizo extra dulce Nuestra Alacena bolsa 270 g  2,40 €  Nuestra Alacena   \n",
              "2    Chorizo extra Nuestra Alacena bandeja 2 x 100 g  1,46 €  Nuestra Alacena   \n",
              "3  Salchichón extra Nuestra Alacena bandeja 2 x 1...  1,89 €  Nuestra Alacena   \n",
              "4  Chorizo extra picante Nuestra Alacena bolsa 270 g  2,40 €  Nuestra Alacena   \n",
              "\n",
              "   Categoria  \n",
              "0  Embutidos  \n",
              "1  Embutidos  \n",
              "2  Embutidos  \n",
              "3  Embutidos  \n",
              "4  Embutidos  "
            ],
            "text/html": [
              "\n",
              "  <div id=\"df-c9ef3394-3fdc-43bc-bca6-0940d18662cc\" class=\"colab-df-container\">\n",
              "    <div>\n",
              "<style scoped>\n",
              "    .dataframe tbody tr th:only-of-type {\n",
              "        vertical-align: middle;\n",
              "    }\n",
              "\n",
              "    .dataframe tbody tr th {\n",
              "        vertical-align: top;\n",
              "    }\n",
              "\n",
              "    .dataframe thead th {\n",
              "        text-align: right;\n",
              "    }\n",
              "</style>\n",
              "<table border=\"1\" class=\"dataframe\">\n",
              "  <thead>\n",
              "    <tr style=\"text-align: right;\">\n",
              "      <th></th>\n",
              "      <th>Producto</th>\n",
              "      <th>Precio</th>\n",
              "      <th>Marca</th>\n",
              "      <th>Categoria</th>\n",
              "    </tr>\n",
              "  </thead>\n",
              "  <tbody>\n",
              "    <tr>\n",
              "      <th>0</th>\n",
              "      <td>Fuet extra Nuestra Alacena bolsa 2 x 170 g</td>\n",
              "      <td>3,59 €</td>\n",
              "      <td>Nuestra Alacena</td>\n",
              "      <td>Embutidos</td>\n",
              "    </tr>\n",
              "    <tr>\n",
              "      <th>1</th>\n",
              "      <td>Chorizo extra dulce Nuestra Alacena bolsa 270 g</td>\n",
              "      <td>2,40 €</td>\n",
              "      <td>Nuestra Alacena</td>\n",
              "      <td>Embutidos</td>\n",
              "    </tr>\n",
              "    <tr>\n",
              "      <th>2</th>\n",
              "      <td>Chorizo extra Nuestra Alacena bandeja 2 x 100 g</td>\n",
              "      <td>1,46 €</td>\n",
              "      <td>Nuestra Alacena</td>\n",
              "      <td>Embutidos</td>\n",
              "    </tr>\n",
              "    <tr>\n",
              "      <th>3</th>\n",
              "      <td>Salchichón extra Nuestra Alacena bandeja 2 x 1...</td>\n",
              "      <td>1,89 €</td>\n",
              "      <td>Nuestra Alacena</td>\n",
              "      <td>Embutidos</td>\n",
              "    </tr>\n",
              "    <tr>\n",
              "      <th>4</th>\n",
              "      <td>Chorizo extra picante Nuestra Alacena bolsa 270 g</td>\n",
              "      <td>2,40 €</td>\n",
              "      <td>Nuestra Alacena</td>\n",
              "      <td>Embutidos</td>\n",
              "    </tr>\n",
              "  </tbody>\n",
              "</table>\n",
              "</div>\n",
              "    <div class=\"colab-df-buttons\">\n",
              "\n",
              "  <div class=\"colab-df-container\">\n",
              "    <button class=\"colab-df-convert\" onclick=\"convertToInteractive('df-c9ef3394-3fdc-43bc-bca6-0940d18662cc')\"\n",
              "            title=\"Convert this dataframe to an interactive table.\"\n",
              "            style=\"display:none;\">\n",
              "\n",
              "  <svg xmlns=\"http://www.w3.org/2000/svg\" height=\"24px\" viewBox=\"0 -960 960 960\">\n",
              "    <path d=\"M120-120v-720h720v720H120Zm60-500h600v-160H180v160Zm220 220h160v-160H400v160Zm0 220h160v-160H400v160ZM180-400h160v-160H180v160Zm440 0h160v-160H620v160ZM180-180h160v-160H180v160Zm440 0h160v-160H620v160Z\"/>\n",
              "  </svg>\n",
              "    </button>\n",
              "\n",
              "  <style>\n",
              "    .colab-df-container {\n",
              "      display:flex;\n",
              "      gap: 12px;\n",
              "    }\n",
              "\n",
              "    .colab-df-convert {\n",
              "      background-color: #E8F0FE;\n",
              "      border: none;\n",
              "      border-radius: 50%;\n",
              "      cursor: pointer;\n",
              "      display: none;\n",
              "      fill: #1967D2;\n",
              "      height: 32px;\n",
              "      padding: 0 0 0 0;\n",
              "      width: 32px;\n",
              "    }\n",
              "\n",
              "    .colab-df-convert:hover {\n",
              "      background-color: #E2EBFA;\n",
              "      box-shadow: 0px 1px 2px rgba(60, 64, 67, 0.3), 0px 1px 3px 1px rgba(60, 64, 67, 0.15);\n",
              "      fill: #174EA6;\n",
              "    }\n",
              "\n",
              "    .colab-df-buttons div {\n",
              "      margin-bottom: 4px;\n",
              "    }\n",
              "\n",
              "    [theme=dark] .colab-df-convert {\n",
              "      background-color: #3B4455;\n",
              "      fill: #D2E3FC;\n",
              "    }\n",
              "\n",
              "    [theme=dark] .colab-df-convert:hover {\n",
              "      background-color: #434B5C;\n",
              "      box-shadow: 0px 1px 3px 1px rgba(0, 0, 0, 0.15);\n",
              "      filter: drop-shadow(0px 1px 2px rgba(0, 0, 0, 0.3));\n",
              "      fill: #FFFFFF;\n",
              "    }\n",
              "  </style>\n",
              "\n",
              "    <script>\n",
              "      const buttonEl =\n",
              "        document.querySelector('#df-c9ef3394-3fdc-43bc-bca6-0940d18662cc button.colab-df-convert');\n",
              "      buttonEl.style.display =\n",
              "        google.colab.kernel.accessAllowed ? 'block' : 'none';\n",
              "\n",
              "      async function convertToInteractive(key) {\n",
              "        const element = document.querySelector('#df-c9ef3394-3fdc-43bc-bca6-0940d18662cc');\n",
              "        const dataTable =\n",
              "          await google.colab.kernel.invokeFunction('convertToInteractive',\n",
              "                                                    [key], {});\n",
              "        if (!dataTable) return;\n",
              "\n",
              "        const docLinkHtml = 'Like what you see? Visit the ' +\n",
              "          '<a target=\"_blank\" href=https://colab.research.google.com/notebooks/data_table.ipynb>data table notebook</a>'\n",
              "          + ' to learn more about interactive tables.';\n",
              "        element.innerHTML = '';\n",
              "        dataTable['output_type'] = 'display_data';\n",
              "        await google.colab.output.renderOutput(dataTable, element);\n",
              "        const docLink = document.createElement('div');\n",
              "        docLink.innerHTML = docLinkHtml;\n",
              "        element.appendChild(docLink);\n",
              "      }\n",
              "    </script>\n",
              "  </div>\n",
              "\n",
              "\n",
              "<div id=\"df-1a102c29-6f08-4dca-a43a-6236e92a1c13\">\n",
              "  <button class=\"colab-df-quickchart\" onclick=\"quickchart('df-1a102c29-6f08-4dca-a43a-6236e92a1c13')\"\n",
              "            title=\"Suggest charts\"\n",
              "            style=\"display:none;\">\n",
              "\n",
              "<svg xmlns=\"http://www.w3.org/2000/svg\" height=\"24px\"viewBox=\"0 0 24 24\"\n",
              "     width=\"24px\">\n",
              "    <g>\n",
              "        <path d=\"M19 3H5c-1.1 0-2 .9-2 2v14c0 1.1.9 2 2 2h14c1.1 0 2-.9 2-2V5c0-1.1-.9-2-2-2zM9 17H7v-7h2v7zm4 0h-2V7h2v10zm4 0h-2v-4h2v4z\"/>\n",
              "    </g>\n",
              "</svg>\n",
              "  </button>\n",
              "\n",
              "<style>\n",
              "  .colab-df-quickchart {\n",
              "      --bg-color: #E8F0FE;\n",
              "      --fill-color: #1967D2;\n",
              "      --hover-bg-color: #E2EBFA;\n",
              "      --hover-fill-color: #174EA6;\n",
              "      --disabled-fill-color: #AAA;\n",
              "      --disabled-bg-color: #DDD;\n",
              "  }\n",
              "\n",
              "  [theme=dark] .colab-df-quickchart {\n",
              "      --bg-color: #3B4455;\n",
              "      --fill-color: #D2E3FC;\n",
              "      --hover-bg-color: #434B5C;\n",
              "      --hover-fill-color: #FFFFFF;\n",
              "      --disabled-bg-color: #3B4455;\n",
              "      --disabled-fill-color: #666;\n",
              "  }\n",
              "\n",
              "  .colab-df-quickchart {\n",
              "    background-color: var(--bg-color);\n",
              "    border: none;\n",
              "    border-radius: 50%;\n",
              "    cursor: pointer;\n",
              "    display: none;\n",
              "    fill: var(--fill-color);\n",
              "    height: 32px;\n",
              "    padding: 0;\n",
              "    width: 32px;\n",
              "  }\n",
              "\n",
              "  .colab-df-quickchart:hover {\n",
              "    background-color: var(--hover-bg-color);\n",
              "    box-shadow: 0 1px 2px rgba(60, 64, 67, 0.3), 0 1px 3px 1px rgba(60, 64, 67, 0.15);\n",
              "    fill: var(--button-hover-fill-color);\n",
              "  }\n",
              "\n",
              "  .colab-df-quickchart-complete:disabled,\n",
              "  .colab-df-quickchart-complete:disabled:hover {\n",
              "    background-color: var(--disabled-bg-color);\n",
              "    fill: var(--disabled-fill-color);\n",
              "    box-shadow: none;\n",
              "  }\n",
              "\n",
              "  .colab-df-spinner {\n",
              "    border: 2px solid var(--fill-color);\n",
              "    border-color: transparent;\n",
              "    border-bottom-color: var(--fill-color);\n",
              "    animation:\n",
              "      spin 1s steps(1) infinite;\n",
              "  }\n",
              "\n",
              "  @keyframes spin {\n",
              "    0% {\n",
              "      border-color: transparent;\n",
              "      border-bottom-color: var(--fill-color);\n",
              "      border-left-color: var(--fill-color);\n",
              "    }\n",
              "    20% {\n",
              "      border-color: transparent;\n",
              "      border-left-color: var(--fill-color);\n",
              "      border-top-color: var(--fill-color);\n",
              "    }\n",
              "    30% {\n",
              "      border-color: transparent;\n",
              "      border-left-color: var(--fill-color);\n",
              "      border-top-color: var(--fill-color);\n",
              "      border-right-color: var(--fill-color);\n",
              "    }\n",
              "    40% {\n",
              "      border-color: transparent;\n",
              "      border-right-color: var(--fill-color);\n",
              "      border-top-color: var(--fill-color);\n",
              "    }\n",
              "    60% {\n",
              "      border-color: transparent;\n",
              "      border-right-color: var(--fill-color);\n",
              "    }\n",
              "    80% {\n",
              "      border-color: transparent;\n",
              "      border-right-color: var(--fill-color);\n",
              "      border-bottom-color: var(--fill-color);\n",
              "    }\n",
              "    90% {\n",
              "      border-color: transparent;\n",
              "      border-bottom-color: var(--fill-color);\n",
              "    }\n",
              "  }\n",
              "</style>\n",
              "\n",
              "  <script>\n",
              "    async function quickchart(key) {\n",
              "      const quickchartButtonEl =\n",
              "        document.querySelector('#' + key + ' button');\n",
              "      quickchartButtonEl.disabled = true;  // To prevent multiple clicks.\n",
              "      quickchartButtonEl.classList.add('colab-df-spinner');\n",
              "      try {\n",
              "        const charts = await google.colab.kernel.invokeFunction(\n",
              "            'suggestCharts', [key], {});\n",
              "      } catch (error) {\n",
              "        console.error('Error during call to suggestCharts:', error);\n",
              "      }\n",
              "      quickchartButtonEl.classList.remove('colab-df-spinner');\n",
              "      quickchartButtonEl.classList.add('colab-df-quickchart-complete');\n",
              "    }\n",
              "    (() => {\n",
              "      let quickchartButtonEl =\n",
              "        document.querySelector('#df-1a102c29-6f08-4dca-a43a-6236e92a1c13 button');\n",
              "      quickchartButtonEl.style.display =\n",
              "        google.colab.kernel.accessAllowed ? 'block' : 'none';\n",
              "    })();\n",
              "  </script>\n",
              "</div>\n",
              "    </div>\n",
              "  </div>\n"
            ]
          },
          "metadata": {},
          "execution_count": 7
        }
      ]
    },
    {
      "cell_type": "code",
      "source": [
        "df_productos.shape"
      ],
      "metadata": {
        "colab": {
          "base_uri": "https://localhost:8080/"
        },
        "id": "2d3PrQubtx2M",
        "outputId": "bfee6c6b-39c1-4257-d23c-62b0dc7b5419"
      },
      "execution_count": null,
      "outputs": [
        {
          "output_type": "execute_result",
          "data": {
            "text/plain": [
              "(198, 4)"
            ]
          },
          "metadata": {},
          "execution_count": 8
        }
      ]
    },
    {
      "cell_type": "code",
      "source": [
        "df_productos.info()"
      ],
      "metadata": {
        "colab": {
          "base_uri": "https://localhost:8080/"
        },
        "id": "LkUSlarwt7yF",
        "outputId": "8b4c54a3-de0d-4052-becd-30d151fb38db"
      },
      "execution_count": null,
      "outputs": [
        {
          "output_type": "stream",
          "name": "stdout",
          "text": [
            "<class 'pandas.core.frame.DataFrame'>\n",
            "RangeIndex: 198 entries, 0 to 197\n",
            "Data columns (total 4 columns):\n",
            " #   Column     Non-Null Count  Dtype \n",
            "---  ------     --------------  ----- \n",
            " 0   Producto   198 non-null    object\n",
            " 1   Precio     198 non-null    object\n",
            " 2   Marca      198 non-null    object\n",
            " 3   Categoria  198 non-null    object\n",
            "dtypes: object(4)\n",
            "memory usage: 6.3+ KB\n"
          ]
        }
      ]
    },
    {
      "cell_type": "code",
      "source": [
        "df_productos['Precio'] = df_productos['Precio'].str.replace(' €', '').str.replace(',', '.').astype(float)"
      ],
      "metadata": {
        "id": "c0jGW5yFdrE5"
      },
      "execution_count": null,
      "outputs": []
    },
    {
      "cell_type": "code",
      "source": [
        "df_productos.isnull().sum()"
      ],
      "metadata": {
        "colab": {
          "base_uri": "https://localhost:8080/"
        },
        "id": "o46M2Ffntxyn",
        "outputId": "91bc8337-76e9-4f59-e00b-7c5d60fb4a2a"
      },
      "execution_count": null,
      "outputs": [
        {
          "output_type": "execute_result",
          "data": {
            "text/plain": [
              "Producto     0\n",
              "Precio       0\n",
              "Marca        0\n",
              "Categoria    0\n",
              "dtype: int64"
            ]
          },
          "metadata": {},
          "execution_count": 11
        }
      ]
    },
    {
      "cell_type": "code",
      "source": [
        "df_productos.info()"
      ],
      "metadata": {
        "colab": {
          "base_uri": "https://localhost:8080/"
        },
        "id": "wJvIRztTec1Y",
        "outputId": "69a0de3c-fd77-4d42-fb07-3cd7c024cf25"
      },
      "execution_count": null,
      "outputs": [
        {
          "output_type": "stream",
          "name": "stdout",
          "text": [
            "<class 'pandas.core.frame.DataFrame'>\n",
            "RangeIndex: 198 entries, 0 to 197\n",
            "Data columns (total 4 columns):\n",
            " #   Column     Non-Null Count  Dtype  \n",
            "---  ------     --------------  -----  \n",
            " 0   Producto   198 non-null    object \n",
            " 1   Precio     198 non-null    float64\n",
            " 2   Marca      198 non-null    object \n",
            " 3   Categoria  198 non-null    object \n",
            "dtypes: float64(1), object(3)\n",
            "memory usage: 6.3+ KB\n"
          ]
        }
      ]
    },
    {
      "cell_type": "code",
      "source": [
        "pd.set_option('display.max_rows', None)\n",
        "unique_compra = df_productos[['Marca','Precio','Categoria']].value_counts()\n",
        "print(unique_compra)"
      ],
      "metadata": {
        "id": "Iu1ENtzkukrX"
      },
      "execution_count": null,
      "outputs": []
    },
    {
      "cell_type": "code",
      "source": [
        "pd.set_option('display.max_rows', None)\n",
        "unique_compra = df_productos['Producto'].value_counts()\n",
        "print(unique_compra)"
      ],
      "metadata": {
        "id": "o76Vx259txvR"
      },
      "execution_count": null,
      "outputs": []
    },
    {
      "cell_type": "code",
      "source": [
        "from sklearn.feature_extraction.text import CountVectorizer\n",
        "from sklearn.metrics.pairwise import cosine_similarity"
      ],
      "metadata": {
        "id": "3JC1NcdFhVNg"
      },
      "execution_count": null,
      "outputs": []
    },
    {
      "cell_type": "code",
      "source": [
        "def compra_recommender(df_productos):\n",
        "    try:\n",
        "        # Limpiar valores nulos o vacíos en las columnas utilizadas\n",
        "        df_productos = df_productos.dropna(subset=['Precio', 'Marca','Categoria'])\n",
        "\n",
        "        # Convertir todas las columnas relevantes a cadenas antes de la concatenación\n",
        "        df_productos['Precio'] = df_productos['Precio'].astype(str)\n",
        "        df_productos['Marca'] = df_productos['Marca'].astype(str)\n",
        "        df_productos['Categoria'] = df_productos['Categoria'].astype(str)\n",
        "\n",
        "\n",
        "        # Concatenar variables para formar la descripción del prodcuto\n",
        "        df_productos['compra_description'] = (\n",
        "            df_productos['Precio'].str.lower() + ' ' +\n",
        "            df_productos['Marca'].str.lower() + ' ' +\n",
        "            df_productos['Categoria'].str.lower()\n",
        "        )\n",
        "        # Utilizamos CountVectorizer para convertir la descripción del producto en una matriz de términos\n",
        "        vectorizer = CountVectorizer()\n",
        "        producto_matrix = vectorizer.fit_transform(df_productos['compra_description'])\n",
        "\n",
        "        # Calculamos la similitud del coseno entre las descripciones de productos\n",
        "        similarity_matrix = cosine_similarity(producto_matrix, producto_matrix)\n",
        "\n",
        "        return similarity_matrix\n",
        "\n",
        "    except Exception as e:\n",
        "        print(f\"Error en compra_recommender: {e}\")\n",
        "        return pd.DataFrame()\n",
        "\n",
        "# Ejemplo de uso\n",
        "try:\n",
        "    # Suponiendo que data_compra es tu DataFrame con los datos de productos\n",
        "    matriz_similitud_compra = compra_recommender(df_productos)\n",
        "    print(matriz_similitud_compra)\n",
        "except Exception as e:\n",
        "    print(f\"Error en el ejemplo de uso: {e}\")"
      ],
      "metadata": {
        "colab": {
          "base_uri": "https://localhost:8080/"
        },
        "id": "cCgm4vxYe5jd",
        "outputId": "e4e7b321-981f-4a7a-e54e-898b38ce0faf"
      },
      "execution_count": null,
      "outputs": [
        {
          "output_type": "stream",
          "name": "stdout",
          "text": [
            "[[1.         0.8660254  0.75       ... 0.         0.         0.        ]\n",
            " [0.8660254  1.         0.8660254  ... 0.         0.         0.        ]\n",
            " [0.75       0.8660254  1.         ... 0.         0.         0.        ]\n",
            " ...\n",
            " [0.         0.         0.         ... 1.         0.33333333 0.33333333]\n",
            " [0.         0.         0.         ... 0.33333333 1.         0.33333333]\n",
            " [0.         0.         0.         ... 0.33333333 0.33333333 1.        ]]\n"
          ]
        }
      ]
    },
    {
      "cell_type": "code",
      "source": [
        "def get_recommendations(matriz_similitud, df_productos, precio, marca, categoria, umbral_similitud=0.5, top_n=5):\n",
        "    try:\n",
        "        print(\"Valores de filtrado:\")\n",
        "        print(f\"Precio: {precio}, Marca: {marca}, Categoria: {categoria}\")\n",
        "\n",
        "        # Filtrar el DataFrame según el tipo de producto y el precio\n",
        "        filtered_df = df_productos[\n",
        "            (df_productos['Precio'] == str(precio)) &\n",
        "            (df_productos['Marca'].str.lower() == str(marca).lower()) &\n",
        "            (df_productos['Categoria'].str.lower() == str(categoria).lower())\n",
        "        ]\n",
        "\n",
        "        print(\"DataFrame filtrado:\")\n",
        "        print(filtered_df)\n",
        "\n",
        "        # Obtener índices de productos que cumplen con los criterios de filtro\n",
        "        indices_productos = filtered_df.index.tolist()\n",
        "\n",
        "        if not indices_productos:\n",
        "            print(\"No hay productos que cumplan con los criterios especificados.\")\n",
        "            return []\n",
        "\n",
        "        # Calcular la puntuación total de recomendación para cada producto\n",
        "        scores = np.sum(matriz_similitud[indices_productos, :], axis=0)\n",
        "\n",
        "        # Aplicar umbral de similitud\n",
        "        relevant_indices = [i for i in range(len(scores)) if scores[i] >= umbral_similitud]\n",
        "\n",
        "        if not relevant_indices:\n",
        "            print(\"No hay productos que superen el umbral de similitud.\")\n",
        "            return []\n",
        "\n",
        "        # Ordenar los productos según la puntuación de recomendación en orden descendente\n",
        "        sorted_indices = np.argsort(scores[relevant_indices])[::-1]\n",
        "\n",
        "        # Obtener los primeros top_n productos recomendados\n",
        "        top_productos_indices = [relevant_indices[i] for i in sorted_indices[:top_n]]\n",
        "\n",
        "        # Obtener nombres de productos recomendados\n",
        "        recommended_products = df_productos.iloc[top_productos_indices]['Producto'].tolist()\n",
        "\n",
        "        return recommended_products\n",
        "\n",
        "    except Exception as e:\n",
        "        print(f\"Error en get_recommendations: {e}\")\n",
        "        return []\n",
        "\n",
        "# Ejemplo de uso\n",
        "try:\n",
        "    precio_input = 2.40\n",
        "    marca_input = 'Nuestra Alacena'\n",
        "    categoria_input = 'Embutidos'\n",
        "    umbral_similitud_input = 0.6\n",
        "    top_n_input = 5\n",
        "\n",
        "    recomendaciones = get_recommendations(matriz_similitud_compra, df_productos, precio_input, marca_input, categoria_input, umbral_similitud_input, top_n_input)\n",
        "\n",
        "    if recomendaciones:\n",
        "        print(f\"Productos recomendados para {precio_input} de {marca_input} en la categoría {categoria_input} con umbral de similitud {umbral_similitud_input} y top {top_n_input}:\")\n",
        "        print(recomendaciones)\n",
        "    else:\n",
        "        print(\"No se encontraron recomendaciones.\")\n",
        "\n",
        "except Exception as e:\n",
        "    print(f\"Error en el ejemplo de uso: {e}\")\n"
      ],
      "metadata": {
        "colab": {
          "base_uri": "https://localhost:8080/"
        },
        "id": "7xKZEuUsFYG6",
        "outputId": "e3d48f03-0e22-4c57-a16b-f8618a5a2fb3"
      },
      "execution_count": null,
      "outputs": [
        {
          "output_type": "stream",
          "name": "stdout",
          "text": [
            "Valores de filtrado:\n",
            "Precio: 2.4, Marca: Nuestra Alacena, Categoria: Embutidos\n",
            "DataFrame filtrado:\n",
            "                                            Producto Precio            Marca  \\\n",
            "1    Chorizo extra dulce Nuestra Alacena bolsa 270 g    2.4  Nuestra Alacena   \n",
            "4  Chorizo extra picante Nuestra Alacena bolsa 270 g    2.4  Nuestra Alacena   \n",
            "\n",
            "   Categoria             compra_description  \n",
            "1  Embutidos  2.4 Nuestra Alacena Embutidos  \n",
            "4  Embutidos  2.4 Nuestra Alacena Embutidos  \n",
            "Productos recomendados para 2.4 de Nuestra Alacena en la categoría Embutidos con umbral de similitud 0.6 y top 5:\n",
            "['Chorizo extra dulce Nuestra Alacena bolsa 270 g', 'Chorizo extra picante Nuestra Alacena bolsa 270 g', 'Fuet extra Nuestra Alacena bolsa 2 x 170 g', 'Chorizo extra Nuestra Alacena bandeja 2 x 100 g', 'Salchichón extra Nuestra Alacena bandeja 2 x 100 g']\n"
          ]
        }
      ]
    }
  ]
}